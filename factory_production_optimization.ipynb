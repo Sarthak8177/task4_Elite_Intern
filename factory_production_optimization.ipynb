{
 "cells": [
  {
   "cell_type": "code",
   "execution_count": 18,
   "id": "94a86e58-a360-4593-9907-d7774967098f",
   "metadata": {},
   "outputs": [
    {
     "name": "stdout",
     "output_type": "stream",
     "text": [
      "Requirement already satisfied: pulp in c:\\users\\kanhe\\.ipynb_checkpoints\\lib\\site-packages (3.2.1)\n"
     ]
    }
   ],
   "source": [
    "# Install PuLP if not installed\n",
    "!pip install pulp\n",
    "\n",
    "from pulp import LpMaximize, LpProblem, LpVariable, value\n",
    "import matplotlib.pyplot as plt\n"
   ]
  },
  {
   "cell_type": "code",
   "execution_count": 19,
   "id": "d0c7a77f-0b57-426c-bcd3-34bde58038d1",
   "metadata": {
    "scrolled": true
   },
   "outputs": [
    {
     "name": "stdout",
     "output_type": "stream",
     "text": [
      "✅ Optimization Model Created\n",
      "Product A: Profit ₹20/unit, uses 2 hrs machine & 3 hrs labor\n",
      "Product B: Profit ₹30/unit, uses 4 hrs machine & 2 hrs labor\n",
      "Machine hours available: 100\n",
      "Labor hours available: 90\n"
     ]
    }
   ],
   "source": [
    "from pulp import LpMaximize, LpProblem, LpVariable, value\n",
    "\n",
    "# Define the model\n",
    "model = LpProblem(\"Maximize_Profit\", LpMaximize)\n",
    "\n",
    "# Decision variables\n",
    "A = LpVariable(\"Product_A\", lowBound=0)\n",
    "B = LpVariable(\"Product_B\", lowBound=0)\n",
    "\n",
    "# Objective function: Maximize profit\n",
    "# Profit: A = ₹20/unit, B = ₹30/unit\n",
    "model += 20 * A + 30 * B, \"Total_Profit\"\n",
    "\n",
    "# Constraints\n",
    "# Machine Time: A = 2 hrs, B = 4 hrs, total available = 100 hrs\n",
    "model += 2 * A + 4 * B <= 100, \"Machine_Constraint\"\n",
    "\n",
    "# Labor Time: A = 3 hrs, B = 2 hrs, total available = 90 hrs\n",
    "model += 3 * A + 2 * B <= 90, \"Labor_Constraint\"\n",
    "\n",
    "# 💡 Display assumptions (as output of this cell)\n",
    "print(\"✅ Optimization Model Created\")\n",
    "print(\"Product A: Profit ₹20/unit, uses 2 hrs machine & 3 hrs labor\")\n",
    "print(\"Product B: Profit ₹30/unit, uses 4 hrs machine & 2 hrs labor\")\n",
    "print(\"Machine hours available: 100\")\n",
    "print(\"Labor hours available: 90\")\n",
    "\n"
   ]
  },
  {
   "cell_type": "code",
   "execution_count": 20,
   "id": "348f1c5d-92b7-47ba-a201-31f3fb31b126",
   "metadata": {},
   "outputs": [
    {
     "name": "stdout",
     "output_type": "stream",
     "text": [
      "✅ Status: 1\n",
      "🔧 Optimal number of Product A: 20.0\n",
      "🔧 Optimal number of Product B: 15.0\n",
      "💰 Maximum Profit: ₹ 850.0\n",
      "🛠️  Machine Hours Used: 100.0 / 100\n",
      "👷 Labor Hours Used: 90.0 / 90\n"
     ]
    }
   ],
   "source": [
    "# Solve the model\n",
    "model.solve()\n",
    "\n",
    "# Optimal solution\n",
    "a_val = A.varValue\n",
    "b_val = B.varValue\n",
    "total_profit = value(model.objective)\n",
    "\n",
    "# Resource usage calculations\n",
    "machine_used = 2 * a_val + 4 * b_val\n",
    "labor_used = 3 * a_val + 2 * b_val\n",
    "\n",
    "# Output results\n",
    "print(\"✅ Status:\", model.status)\n",
    "print(\"🔧 Optimal number of Product A:\", a_val)\n",
    "print(\"🔧 Optimal number of Product B:\", b_val)\n",
    "print(\"💰 Maximum Profit: ₹\", total_profit)\n",
    "print(\"🛠️  Machine Hours Used:\", machine_used, \"/ 100\")\n",
    "print(\"👷 Labor Hours Used:\", labor_used, \"/ 90\")\n"
   ]
  },
  {
   "cell_type": "code",
   "execution_count": 21,
   "id": "a2e785a6-a2d6-46c5-8e08-5ffc6e526ff1",
   "metadata": {},
   "outputs": [
    {
     "data": {
      "image/png": "[encoded data removed]",
      "text/plain": [
       "<Figure size 640x480 with 1 Axes>"
      ]
     },
     "metadata": {},
     "output_type": "display_data"
    }
   ],
   "source": [
    "# Visualizing the results\n",
    "labels = ['Product A', 'Product B']\n",
    "values = [A.varValue, B.varValue]\n",
    "\n",
    "# Convert None to 0 in case model didn't solve\n",
    "values = [v if v is not None else 0 for v in values]\n",
    "\n",
    "plt.bar(labels, values, color=['green', 'blue'])\n",
    "plt.title(\"Optimal Production Quantity\")\n",
    "plt.ylabel(\"Units\")\n",
    "plt.grid(True)\n",
    "plt.show()\n"
   ]
  },
  {
   "cell_type": "code",
   "execution_count": 22,
   "id": "44b23ecc-7c4a-451b-a503-3c161eeb59ed",
   "metadata": {},
   "outputs": [
    {
     "name": "stdout",
     "output_type": "stream",
     "text": [
      "📈 Business Insight:\n",
      "To maximize profit, the factory should produce 20.0 units of Product A and 15.0 units of Product B.\n",
      "This will fully utilize available resources and generate the highest possible profit.\n"
     ]
    }
   ],
   "source": [
    "print(\"📈 Business Insight:\")\n",
    "print(f\"To maximize profit, the factory should produce {A.varValue} units of Product A and {B.varValue} units of Product B.\")\n",
    "print(\"This will fully utilize available resources and generate the highest possible profit.\")\n"
   ]
  },
  {
   "cell_type": "markdown",
   "id": "ffa2ed1a-e612-4aaa-a637-c84868754d18",
   "metadata": {},
   "source": [
    "## ✅ Final Summary\r\n",
    "This project solved a real-world business problem using Linear Programming.\r\n",
    "\r\n",
    "We built a model to optimize production of two products under machine and labor constraints.  \r\n",
    "Using the PuLP library, we found the exact quantities of each product to **maximize profit**, while staying within resource limits.\r\n",
    "\r\n",
    "This task demonstrates how mathematical optimization can drive smarter business decisions.\r\n"
   ]
  }
 ],
 "metadata": {
  "kernelspec": {
   "display_name": "Python 3 (ipykernel)",
   "language": "python",
   "name": "python3"
  },
  "language_info": {
   "codemirror_mode": {
    "name": "ipython",
    "version": 3
   },
   "file_extension": ".py",
   "mimetype": "text/x-python",
   "name": "python",
   "nbconvert_exporter": "python",
   "pygments_lexer": "ipython3",
   "version": "3.11.7"
  }
 },
 "nbformat": 4,
 "nbformat_minor": 5
}
